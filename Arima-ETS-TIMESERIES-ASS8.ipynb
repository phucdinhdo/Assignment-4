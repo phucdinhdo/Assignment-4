{
 "cells": [
  {
   "cell_type": "markdown",
   "id": "70116966",
   "metadata": {},
   "source": [
    "## 1. Introduction"
   ]
  },
  {
   "cell_type": "markdown",
   "id": "78529206",
   "metadata": {},
   "source": [
    "The goal of this project is to train on a data set that contains daily sales data for different stores and different product families using ETS and Arima as the two time series models to predict two weeks of daily sales for each store and each product family. The performance of the two models are then evaluated and compared using Mean Percentage Error (MPE), Mean Absolute Percentage Error (MAPE), Root Mean Squared Error (RMSE), Mean Squared Error (MSE), Mean Absolute Error (MAE) as metrics."
   ]
  },
  {
   "cell_type": "markdown",
   "id": "b18523d4",
   "metadata": {},
   "source": [
    "### 2. Data Exploration"
   ]
  },
  {
   "cell_type": "markdown",
   "id": "db6a6301",
   "metadata": {},
   "source": [
    "First, import the necessary libraries."
   ]
  },
  {
   "cell_type": "code",
   "execution_count": 5,
   "id": "8ba802bc",
   "metadata": {},
   "outputs": [],
   "source": [
    "import pandas as pd\n",
    "import numpy as np\n",
    "from statsmodels.tsa.stattools import adfuller, acf, pacf\n",
    "from statsmodels.tsa.statespace.tools import diff\n",
    "from statsmodels.graphics.tsaplots import plot_acf, plot_pacf\n",
    "from statsmodels.tsa.statespace.sarimax import SARIMAX\n",
    "from statsmodels.tsa.seasonal import seasonal_decompose\n",
    "from statsmodels.tsa.arima.model import ARIMA\n",
    "from statsmodels.tsa.exponential_smoothing.ets import ETSModel\n",
    "import matplotlib.pyplot as plt\n",
    "import itertools\n",
    "from pmdarima import auto_arima\n",
    "\n",
    "import warnings\n",
    "warnings.filterwarnings('ignore')"
   ]
  },
  {
   "cell_type": "markdown",
   "id": "2170043f",
   "metadata": {},
   "source": [
    "Load each of the files as a pandas dataframe."
   ]
  },
  {
   "cell_type": "code",
   "execution_count": 7,
   "id": "3f315e82",
   "metadata": {},
   "outputs": [],
   "source": [
    "#load each of the files\n",
    "train=pd.read_csv('train.csv')\n",
    "stores=pd.read_csv('stores.csv')\n",
    "holidays=pd.read_csv('holidays_events.csv')\n",
    "oil=pd.read_csv('oil.csv')\n",
    "test=pd.read_csv('test.csv')"
   ]
  },
  {
   "cell_type": "code",
   "execution_count": 8,
   "id": "5737951f-bac6-4cfb-9c2a-e7e23f57215f",
   "metadata": {},
   "outputs": [
    {
     "data": {
      "text/html": [
       "<div>\n",
       "<style scoped>\n",
       "    .dataframe tbody tr th:only-of-type {\n",
       "        vertical-align: middle;\n",
       "    }\n",
       "\n",
       "    .dataframe tbody tr th {\n",
       "        vertical-align: top;\n",
       "    }\n",
       "\n",
       "    .dataframe thead th {\n",
       "        text-align: right;\n",
       "    }\n",
       "</style>\n",
       "<table border=\"1\" class=\"dataframe\">\n",
       "  <thead>\n",
       "    <tr style=\"text-align: right;\">\n",
       "      <th></th>\n",
       "      <th>id</th>\n",
       "      <th>date</th>\n",
       "      <th>store_nbr</th>\n",
       "      <th>family</th>\n",
       "      <th>sales</th>\n",
       "      <th>onpromotion</th>\n",
       "    </tr>\n",
       "  </thead>\n",
       "  <tbody>\n",
       "    <tr>\n",
       "      <th>0</th>\n",
       "      <td>0</td>\n",
       "      <td>2013-01-01</td>\n",
       "      <td>1</td>\n",
       "      <td>AUTOMOTIVE</td>\n",
       "      <td>0.0</td>\n",
       "      <td>0</td>\n",
       "    </tr>\n",
       "    <tr>\n",
       "      <th>1</th>\n",
       "      <td>1</td>\n",
       "      <td>2013-01-01</td>\n",
       "      <td>1</td>\n",
       "      <td>BABY CARE</td>\n",
       "      <td>0.0</td>\n",
       "      <td>0</td>\n",
       "    </tr>\n",
       "    <tr>\n",
       "      <th>2</th>\n",
       "      <td>2</td>\n",
       "      <td>2013-01-01</td>\n",
       "      <td>1</td>\n",
       "      <td>BEAUTY</td>\n",
       "      <td>0.0</td>\n",
       "      <td>0</td>\n",
       "    </tr>\n",
       "    <tr>\n",
       "      <th>3</th>\n",
       "      <td>3</td>\n",
       "      <td>2013-01-01</td>\n",
       "      <td>1</td>\n",
       "      <td>BEVERAGES</td>\n",
       "      <td>0.0</td>\n",
       "      <td>0</td>\n",
       "    </tr>\n",
       "    <tr>\n",
       "      <th>4</th>\n",
       "      <td>4</td>\n",
       "      <td>2013-01-01</td>\n",
       "      <td>1</td>\n",
       "      <td>BOOKS</td>\n",
       "      <td>0.0</td>\n",
       "      <td>0</td>\n",
       "    </tr>\n",
       "  </tbody>\n",
       "</table>\n",
       "</div>"
      ],
      "text/plain": [
       "   id        date  store_nbr      family  sales  onpromotion\n",
       "0   0  2013-01-01          1  AUTOMOTIVE    0.0            0\n",
       "1   1  2013-01-01          1   BABY CARE    0.0            0\n",
       "2   2  2013-01-01          1      BEAUTY    0.0            0\n",
       "3   3  2013-01-01          1   BEVERAGES    0.0            0\n",
       "4   4  2013-01-01          1       BOOKS    0.0            0"
      ]
     },
     "execution_count": 8,
     "metadata": {},
     "output_type": "execute_result"
    }
   ],
   "source": [
    "train.head()"
   ]
  },
  {
   "cell_type": "code",
   "execution_count": 9,
   "id": "848701d9",
   "metadata": {},
   "outputs": [],
   "source": [
    "num_families=train['family'].nunique()#returns a number of distinct observations\n",
    "num_stores=train['store_nbr'].nunique()"
   ]
  },
  {
   "cell_type": "code",
   "execution_count": 10,
   "id": "b05777c4",
   "metadata": {},
   "outputs": [],
   "source": [
    "from itertools import product\n",
    "\n",
    "families=train['family'].unique()\n",
    "stores=train['store_nbr'].unique()\n",
    "\n",
    "train_series_dict={}\n",
    "\n",
    "train['date']=pd.to_datetime(train['date'], format='%Y-%m-%d')\n",
    "\n",
    "new_train=train.set_index(['family', 'store_nbr', 'date'])\n",
    "new_train.loc[\"GROCERY I\"].loc[1]\n",
    "for family, store in product(families, stores):\n",
    "    series=new_train.loc[family].loc[store].asfreq('d', method='ffill')#convert TimeSeries to specified frequency\n",
    "    train_series_dict[(family, store)]=series['sales']\n",
    "    sales_df=series['sales']#generating a series of daily sales"
   ]
  },
  {
   "cell_type": "markdown",
   "id": "236a3475-add0-4899-a7b8-42343a2e0e13",
   "metadata": {},
   "source": [
    "<br>\n",
    "Replace zero holiday sales with the mean of sales_df."
   ]
  },
  {
   "cell_type": "code",
   "execution_count": 12,
   "id": "6d75045f-0b25-43e3-af1e-3e8aa0d94f42",
   "metadata": {},
   "outputs": [],
   "source": [
    "sales_df = sales_df.replace(to_replace = 0, value = sales_df.mean())"
   ]
  },
  {
   "cell_type": "markdown",
   "id": "d2583e29",
   "metadata": {},
   "source": [
    "\n",
    "## 3. ETS Model"
   ]
  },
  {
   "cell_type": "markdown",
   "id": "492e4cc1-a5ef-479b-9569-c1a3e1ec7aa5",
   "metadata": {},
   "source": [
    "Train-Val Date Split (80:20)\n",
    "\n",
    "Train = '2013-01-01':'2015-12-31'\n",
    "\n",
    "Val = '2016-01-01':'2017-08-15'"
   ]
  },
  {
   "cell_type": "markdown",
   "id": "a2edd42a-c482-4b82-8e5c-e067e157eafd",
   "metadata": {},
   "source": [
    "ETS Model"
   ]
  },
  {
   "cell_type": "code",
   "execution_count": 16,
   "id": "1295dc92-1282-46d1-b5b0-7432f5381cc0",
   "metadata": {},
   "outputs": [],
   "source": [
    "# Model trains on '2013-01-01':'2015-12-31' period\n",
    "model=ETSModel(sales_df['2013-01-01':'2015-12-31'], trend='add', seasonal='add', seasonal_periods=7)\n",
    "result=model.fit()"
   ]
  },
  {
   "cell_type": "code",
   "execution_count": 17,
   "id": "87813ee5-2a14-4032-8428-7ebd31add3ff",
   "metadata": {},
   "outputs": [
    {
     "data": {
      "text/plain": [
       "2016-01-01    13.860118\n",
       "2016-01-02    21.625388\n",
       "2016-01-03    28.675143\n",
       "2016-01-04    15.634788\n",
       "2016-01-05    14.365339\n",
       "                ...    \n",
       "2017-08-11    11.076532\n",
       "2017-08-12    18.841802\n",
       "2017-08-13    25.891557\n",
       "2017-08-14    12.851202\n",
       "2017-08-15    11.581753\n",
       "Freq: D, Length: 593, dtype: float64"
      ]
     },
     "execution_count": 17,
     "metadata": {},
     "output_type": "execute_result"
    }
   ],
   "source": [
    "#Model predicts on '2016-01-01':'2017-08-15' period\n",
    "start='2016-01-01'\n",
    "end='2017-08-15'\n",
    "\n",
    "pred_series = result.predict(start=start, end=end)\n",
    "pred_series"
   ]
  },
  {
   "cell_type": "markdown",
   "id": "83fae6ac-afd3-41b1-bc39-f609fbf61006",
   "metadata": {},
   "source": [
    "<br>\n",
    "Actual data on validation period"
   ]
  },
  {
   "cell_type": "code",
   "execution_count": 19,
   "id": "033d1c35-1466-4ab1-8bb6-4c200648de9b",
   "metadata": {},
   "outputs": [],
   "source": [
    "observations=sales_df['2016-01-01':'2017-08-15']"
   ]
  },
  {
   "cell_type": "markdown",
   "id": "8edca8a4-cec1-4b56-8cdc-e9e8455b934a",
   "metadata": {},
   "source": [
    "<br>\n",
    "Correlation Coef"
   ]
  },
  {
   "cell_type": "code",
   "execution_count": 21,
   "id": "75e3f95e-ea67-42c3-81a6-8077381d43d8",
   "metadata": {},
   "outputs": [
    {
     "data": {
      "text/plain": [
       "array([[1.        , 0.49461076],\n",
       "       [0.49461076, 1.        ]])"
      ]
     },
     "execution_count": 21,
     "metadata": {},
     "output_type": "execute_result"
    }
   ],
   "source": [
    "corr = np.corrcoef(pred_series, observations)\n",
    "corr"
   ]
  },
  {
   "cell_type": "markdown",
   "id": "e9112485-041a-4007-8a75-655712c3c79d",
   "metadata": {},
   "source": [
    "<br>\n",
    "Calculations of Metrics"
   ]
  },
  {
   "cell_type": "code",
   "execution_count": 23,
   "id": "c58a0a80-2cb5-440d-995d-4ced2b6da460",
   "metadata": {},
   "outputs": [
    {
     "name": "stdout",
     "output_type": "stream",
     "text": [
      " MPE: -0.138\n",
      " MAPE: 0.426\n",
      " MAE: 6.001\n",
      " MSE: 7.973\n",
      " RMSE: 2.824\n",
      " RMSLE: 0.19\n"
     ]
    }
   ],
   "source": [
    "from sklearn.metrics import mean_squared_error,r2_score,mean_absolute_error, mean_squared_log_error\n",
    "from sklearn.metrics import mean_absolute_percentage_error as MAPE\n",
    "mpe = np.round(np.mean((observations- pred_series)/observations),3)\n",
    "mae = np.round(mean_absolute_error(observations, pred_series),3)\n",
    "mape = np.round(MAPE(observations, pred_series),3)\n",
    "mse = np.round(mean_squared_error(observations, pred_series, squared=False),3)\n",
    "rmse = np.round(mse**0.5,3)\n",
    "mae = np.round(mean_absolute_error(observations, pred_series),3)\n",
    "rmsle = np.round(mean_squared_log_error(observations, pred_series),3)\n",
    "\n",
    "print(f\" MPE: {mpe}\")\n",
    "print(f\" MAPE: {mape}\")\n",
    "print(f\" MAE: {mae}\")\n",
    "print(f\" MSE: {mse}\")\n",
    "print(f\" RMSE: {rmse}\")\n",
    "print(f\" RMSLE: {rmsle}\")"
   ]
  },
  {
   "cell_type": "markdown",
   "id": "a0d7bfeb-db69-426a-ba70-16c1f0c8b811",
   "metadata": {},
   "source": [
    "<br>\n",
    "Time Series Plot for Validation Period"
   ]
  },
  {
   "cell_type": "code",
   "execution_count": 25,
   "id": "47656eab-c87f-4563-9299-dfc45a4d79a8",
   "metadata": {},
   "outputs": [
    {
     "data": {
      "text/plain": [
       "<matplotlib.legend.Legend at 0x2320a8daa50>"
      ]
     },
     "execution_count": 25,
     "metadata": {},
     "output_type": "execute_result"
    },
    {
     "data": {
      "image/png": "[encoded data removed]",
      "text/plain": [
       "<Figure size 640x480 with 1 Axes>"
      ]
     },
     "metadata": {},
     "output_type": "display_data"
    }
   ],
   "source": [
    "index = pd.date_range(\"2016-01-01\", \"2017-08-15\", freq=\"3MS\") \n",
    "observations = pd.Series(observations, index=index)\n",
    "pred_series = pd.Series(pred_series, index=index)\n",
    "\n",
    "plt.ylabel(\"$Sales\") \n",
    "pred_series.plot(label='ETS')\n",
    "observations.plot(label='Actual')\n",
    "plt.legend()"
   ]
  },
  {
   "cell_type": "markdown",
   "id": "6f101545",
   "metadata": {},
   "source": [
    "<a name='submission'></a>\n",
    "## 4. ETS Submission "
   ]
  },
  {
   "cell_type": "code",
   "execution_count": 27,
   "id": "c5b8b337-c21a-43d1-96c5-4828e0f56bc3",
   "metadata": {},
   "outputs": [],
   "source": [
    "ets_results_dict={}\n",
    "\n",
    "for key, series in train_series_dict.items():\n",
    "    model=ETSModel(endog=series[:'2017-08-01'], trend='add', seasonal='add', seasonal_periods=7)\n",
    "    result=model.fit()\n",
    "    ets_results_dict[key]=result\n"
   ]
  },
  {
   "cell_type": "code",
   "execution_count": 28,
   "id": "4ba135b7",
   "metadata": {},
   "outputs": [],
   "source": [
    "ets_pred={}\n",
    "start='2017-08-16'\n",
    "end='2017-08-31'\n",
    "\n",
    "for key, model in ets_results_dict.items():\n",
    "    pred_series=model.predict(start=start, end=end)\n",
    "    ets_pred[key]=pred_series"
   ]
  },
  {
   "cell_type": "markdown",
   "id": "34a857c3",
   "metadata": {},
   "source": [
    "Add appropriate 'Id'"
   ]
  },
  {
   "cell_type": "code",
   "execution_count": 30,
   "id": "64ba5db8",
   "metadata": {},
   "outputs": [
    {
     "data": {
      "text/html": [
       "<div>\n",
       "<style scoped>\n",
       "    .dataframe tbody tr th:only-of-type {\n",
       "        vertical-align: middle;\n",
       "    }\n",
       "\n",
       "    .dataframe tbody tr th {\n",
       "        vertical-align: top;\n",
       "    }\n",
       "\n",
       "    .dataframe thead th {\n",
       "        text-align: right;\n",
       "    }\n",
       "</style>\n",
       "<table border=\"1\" class=\"dataframe\">\n",
       "  <thead>\n",
       "    <tr style=\"text-align: right;\">\n",
       "      <th></th>\n",
       "      <th>id</th>\n",
       "      <th>date</th>\n",
       "      <th>store_nbr</th>\n",
       "      <th>family</th>\n",
       "      <th>onpromotion</th>\n",
       "      <th>sales</th>\n",
       "    </tr>\n",
       "  </thead>\n",
       "  <tbody>\n",
       "    <tr>\n",
       "      <th>0</th>\n",
       "      <td>3000888</td>\n",
       "      <td>2017-08-16</td>\n",
       "      <td>1</td>\n",
       "      <td>AUTOMOTIVE</td>\n",
       "      <td>0</td>\n",
       "      <td>4.776623</td>\n",
       "    </tr>\n",
       "    <tr>\n",
       "      <th>1</th>\n",
       "      <td>3000889</td>\n",
       "      <td>2017-08-16</td>\n",
       "      <td>1</td>\n",
       "      <td>BABY CARE</td>\n",
       "      <td>0</td>\n",
       "      <td>0.000000</td>\n",
       "    </tr>\n",
       "    <tr>\n",
       "      <th>2</th>\n",
       "      <td>3000890</td>\n",
       "      <td>2017-08-16</td>\n",
       "      <td>1</td>\n",
       "      <td>BEAUTY</td>\n",
       "      <td>2</td>\n",
       "      <td>3.497976</td>\n",
       "    </tr>\n",
       "    <tr>\n",
       "      <th>3</th>\n",
       "      <td>3000891</td>\n",
       "      <td>2017-08-16</td>\n",
       "      <td>1</td>\n",
       "      <td>BEVERAGES</td>\n",
       "      <td>20</td>\n",
       "      <td>2549.828607</td>\n",
       "    </tr>\n",
       "    <tr>\n",
       "      <th>4</th>\n",
       "      <td>3000892</td>\n",
       "      <td>2017-08-16</td>\n",
       "      <td>1</td>\n",
       "      <td>BOOKS</td>\n",
       "      <td>0</td>\n",
       "      <td>0.218159</td>\n",
       "    </tr>\n",
       "    <tr>\n",
       "      <th>...</th>\n",
       "      <td>...</td>\n",
       "      <td>...</td>\n",
       "      <td>...</td>\n",
       "      <td>...</td>\n",
       "      <td>...</td>\n",
       "      <td>...</td>\n",
       "    </tr>\n",
       "    <tr>\n",
       "      <th>28507</th>\n",
       "      <td>3029395</td>\n",
       "      <td>2017-08-31</td>\n",
       "      <td>9</td>\n",
       "      <td>POULTRY</td>\n",
       "      <td>1</td>\n",
       "      <td>367.098945</td>\n",
       "    </tr>\n",
       "    <tr>\n",
       "      <th>28508</th>\n",
       "      <td>3029396</td>\n",
       "      <td>2017-08-31</td>\n",
       "      <td>9</td>\n",
       "      <td>PREPARED FOODS</td>\n",
       "      <td>0</td>\n",
       "      <td>84.824797</td>\n",
       "    </tr>\n",
       "    <tr>\n",
       "      <th>28509</th>\n",
       "      <td>3029397</td>\n",
       "      <td>2017-08-31</td>\n",
       "      <td>9</td>\n",
       "      <td>PRODUCE</td>\n",
       "      <td>1</td>\n",
       "      <td>1249.904615</td>\n",
       "    </tr>\n",
       "    <tr>\n",
       "      <th>28510</th>\n",
       "      <td>3029398</td>\n",
       "      <td>2017-08-31</td>\n",
       "      <td>9</td>\n",
       "      <td>SCHOOL AND OFFICE SUPPLIES</td>\n",
       "      <td>9</td>\n",
       "      <td>112.232266</td>\n",
       "    </tr>\n",
       "    <tr>\n",
       "      <th>28511</th>\n",
       "      <td>3029399</td>\n",
       "      <td>2017-08-31</td>\n",
       "      <td>9</td>\n",
       "      <td>SEAFOOD</td>\n",
       "      <td>0</td>\n",
       "      <td>12.072180</td>\n",
       "    </tr>\n",
       "  </tbody>\n",
       "</table>\n",
       "<p>28512 rows × 6 columns</p>\n",
       "</div>"
      ],
      "text/plain": [
       "            id       date  store_nbr                      family  onpromotion  \\\n",
       "0      3000888 2017-08-16          1                  AUTOMOTIVE            0   \n",
       "1      3000889 2017-08-16          1                   BABY CARE            0   \n",
       "2      3000890 2017-08-16          1                      BEAUTY            2   \n",
       "3      3000891 2017-08-16          1                   BEVERAGES           20   \n",
       "4      3000892 2017-08-16          1                       BOOKS            0   \n",
       "...        ...        ...        ...                         ...          ...   \n",
       "28507  3029395 2017-08-31          9                     POULTRY            1   \n",
       "28508  3029396 2017-08-31          9              PREPARED FOODS            0   \n",
       "28509  3029397 2017-08-31          9                     PRODUCE            1   \n",
       "28510  3029398 2017-08-31          9  SCHOOL AND OFFICE SUPPLIES            9   \n",
       "28511  3029399 2017-08-31          9                     SEAFOOD            0   \n",
       "\n",
       "             sales  \n",
       "0         4.776623  \n",
       "1         0.000000  \n",
       "2         3.497976  \n",
       "3      2549.828607  \n",
       "4         0.218159  \n",
       "...            ...  \n",
       "28507   367.098945  \n",
       "28508    84.824797  \n",
       "28509  1249.904615  \n",
       "28510   112.232266  \n",
       "28511    12.072180  \n",
       "\n",
       "[28512 rows x 6 columns]"
      ]
     },
     "metadata": {},
     "output_type": "display_data"
    },
    {
     "data": {
      "text/html": [
       "<div>\n",
       "<style scoped>\n",
       "    .dataframe tbody tr th:only-of-type {\n",
       "        vertical-align: middle;\n",
       "    }\n",
       "\n",
       "    .dataframe tbody tr th {\n",
       "        vertical-align: top;\n",
       "    }\n",
       "\n",
       "    .dataframe thead th {\n",
       "        text-align: right;\n",
       "    }\n",
       "</style>\n",
       "<table border=\"1\" class=\"dataframe\">\n",
       "  <thead>\n",
       "    <tr style=\"text-align: right;\">\n",
       "      <th></th>\n",
       "      <th>sales</th>\n",
       "    </tr>\n",
       "    <tr>\n",
       "      <th>id</th>\n",
       "      <th></th>\n",
       "    </tr>\n",
       "  </thead>\n",
       "  <tbody>\n",
       "    <tr>\n",
       "      <th>3000888</th>\n",
       "      <td>4.776623</td>\n",
       "    </tr>\n",
       "    <tr>\n",
       "      <th>3000889</th>\n",
       "      <td>0.000000</td>\n",
       "    </tr>\n",
       "    <tr>\n",
       "      <th>3000890</th>\n",
       "      <td>3.497976</td>\n",
       "    </tr>\n",
       "    <tr>\n",
       "      <th>3000891</th>\n",
       "      <td>2549.828607</td>\n",
       "    </tr>\n",
       "    <tr>\n",
       "      <th>3000892</th>\n",
       "      <td>0.218159</td>\n",
       "    </tr>\n",
       "    <tr>\n",
       "      <th>...</th>\n",
       "      <td>...</td>\n",
       "    </tr>\n",
       "    <tr>\n",
       "      <th>3029395</th>\n",
       "      <td>367.098945</td>\n",
       "    </tr>\n",
       "    <tr>\n",
       "      <th>3029396</th>\n",
       "      <td>84.824797</td>\n",
       "    </tr>\n",
       "    <tr>\n",
       "      <th>3029397</th>\n",
       "      <td>1249.904615</td>\n",
       "    </tr>\n",
       "    <tr>\n",
       "      <th>3029398</th>\n",
       "      <td>112.232266</td>\n",
       "    </tr>\n",
       "    <tr>\n",
       "      <th>3029399</th>\n",
       "      <td>12.072180</td>\n",
       "    </tr>\n",
       "  </tbody>\n",
       "</table>\n",
       "<p>28512 rows × 1 columns</p>\n",
       "</div>"
      ],
      "text/plain": [
       "               sales\n",
       "id                  \n",
       "3000888     4.776623\n",
       "3000889     0.000000\n",
       "3000890     3.497976\n",
       "3000891  2549.828607\n",
       "3000892     0.218159\n",
       "...              ...\n",
       "3029395   367.098945\n",
       "3029396    84.824797\n",
       "3029397  1249.904615\n",
       "3029398   112.232266\n",
       "3029399    12.072180\n",
       "\n",
       "[28512 rows x 1 columns]"
      ]
     },
     "metadata": {},
     "output_type": "display_data"
    }
   ],
   "source": [
    "sample_submission = pd.read_csv('sample_submission.csv')\n",
    "predictions_df=pd.concat(objs=ets_pred)\n",
    "predictions_df=predictions_df.to_frame(name='sales')\n",
    "#predictions_df=predictions_df.reset_index()\n",
    "#predictions_df=predictions_df.rename(mapper={'level_0': 'family', 'level_1': 'store_nbr', 'level_2': 'date'}, axis=1)\n",
    "predictions_df.index.rename(['family', 'store_nbr', 'date'], inplace=True)\n",
    "\n",
    "test['date']=pd.to_datetime(test['date'], format='%Y-%m-%d')\n",
    "\n",
    "submission_df=test.join(other=predictions_df ,on=['family', 'store_nbr', 'date'],how='left')\n",
    "display(submission_df)\n",
    "submission_df.drop(axis=1, labels=['onpromotion', 'date', 'family', 'store_nbr'], inplace=True)\n",
    "submission_df.set_index('id', inplace=True)\n",
    "display(submission_df)\n",
    "submission_df.to_csv('submission.csv')"
   ]
  },
  {
   "cell_type": "markdown",
   "id": "7e879463",
   "metadata": {},
   "source": [
    "<a name='references'></a>\n",
    "## 5. ARIMA MODEL"
   ]
  },
  {
   "cell_type": "markdown",
   "id": "db1d3f91-cc95-431c-8489-a5a7bcc7dc0c",
   "metadata": {},
   "source": [
    "Adfuller Test for Stationary"
   ]
  },
  {
   "cell_type": "code",
   "execution_count": 33,
   "id": "826b43f0-001d-41b4-b2cd-1ac811f3f82e",
   "metadata": {},
   "outputs": [],
   "source": [
    "#for key, series in train_series_dict.items():\n",
    "adftest = adfuller(sales_df, maxlag=10, regression='c')"
   ]
  },
  {
   "cell_type": "code",
   "execution_count": 34,
   "id": "c3143323-1049-4158-9fa6-3dc82ce3de9b",
   "metadata": {},
   "outputs": [
    {
     "name": "stdout",
     "output_type": "stream",
     "text": [
      "p-value of adfuller test:  1.4668241848275784e-12\n"
     ]
    }
   ],
   "source": [
    "print(\"p-value of adfuller test: \", adftest[1])#sales_df is a stationary series"
   ]
  },
  {
   "cell_type": "markdown",
   "id": "688df970-1150-4513-b300-45ed09796a40",
   "metadata": {},
   "source": [
    "<br>\n",
    "Model trains on '2013-01-01':'2015-12-31' period"
   ]
  },
  {
   "cell_type": "code",
   "execution_count": 36,
   "id": "4e1a4367-daa6-426f-814a-cc4266083fd1",
   "metadata": {},
   "outputs": [],
   "source": [
    "model=ARIMA(sales_df['2013-01-01':'2015-12-31'], order=(1,0,1))\n",
    "#model=ARIMA(endog=sales_df[:'2017-08-01'], order=(5,1,0))#5,1,0 -  1,0,1 \n",
    "result=model.fit()"
   ]
  },
  {
   "cell_type": "markdown",
   "id": "78da73d3-51c1-42b5-879f-7808666184b5",
   "metadata": {},
   "source": [
    "<br>\n",
    "Model validates on '2016-01-01':'2017-08-15' period"
   ]
  },
  {
   "cell_type": "code",
   "execution_count": 38,
   "id": "f1feace3-a879-411d-857f-29afadb14f97",
   "metadata": {},
   "outputs": [
    {
     "data": {
      "text/plain": [
       "2016-01-01    16.813569\n",
       "2016-01-02    16.813654\n",
       "2016-01-03    16.813738\n",
       "2016-01-04    16.813820\n",
       "2016-01-05    16.813900\n",
       "                ...    \n",
       "2017-08-11    16.818037\n",
       "2017-08-12    16.818037\n",
       "2017-08-13    16.818037\n",
       "2017-08-14    16.818037\n",
       "2017-08-15    16.818037\n",
       "Freq: D, Name: predicted_mean, Length: 593, dtype: float64"
      ]
     },
     "execution_count": 38,
     "metadata": {},
     "output_type": "execute_result"
    }
   ],
   "source": [
    "#arima_pred={}\n",
    "start='2016-01-01'\n",
    "end='2017-08-15'\n",
    "\n",
    "#for key, model in arima_results_dict.items():\n",
    "#pred_series=model.predict(start=start, end=end)\n",
    "pred_series=result.predict(start=start, end=end)\n",
    "pred_series"
   ]
  },
  {
   "cell_type": "code",
   "execution_count": 39,
   "id": "ddecc686-6963-43f0-b1fe-8899353da6c4",
   "metadata": {},
   "outputs": [],
   "source": [
    "observations=sales_df['2016-01-01':'2017-08-15']"
   ]
  },
  {
   "cell_type": "code",
   "execution_count": 40,
   "id": "9778f75d-6245-4b89-a603-05f1e100ed7b",
   "metadata": {},
   "outputs": [
    {
     "data": {
      "text/plain": [
       "array([[ 1.        , -0.01706291],\n",
       "       [-0.01706291,  1.        ]])"
      ]
     },
     "execution_count": 40,
     "metadata": {},
     "output_type": "execute_result"
    }
   ],
   "source": [
    "corr = np.corrcoef(pred_series, observations)\n",
    "corr"
   ]
  },
  {
   "cell_type": "code",
   "execution_count": 41,
   "id": "6c14ebb0-f6c2-4b21-8d30-3c5d30b43767",
   "metadata": {},
   "outputs": [
    {
     "name": "stdout",
     "output_type": "stream",
     "text": [
      " MPE: -0.264\n",
      " MAPE: 0.515\n",
      " MAE: 6.737\n",
      " MSE: 9.032\n",
      " RMSE: 3.005\n",
      " RMSLE: 0.242\n"
     ]
    }
   ],
   "source": [
    "from sklearn.metrics import mean_squared_error,r2_score,mean_absolute_error, mean_squared_log_error\n",
    "from sklearn.metrics import mean_absolute_percentage_error as MAPE\n",
    "mpe = np.round(np.mean((observations- pred_series)/observations),3)\n",
    "mae = np.round(mean_absolute_error(observations, pred_series),3)\n",
    "mape = np.round(MAPE(observations, pred_series),3)\n",
    "mse = np.round(mean_squared_error(observations, pred_series, squared=False),3)\n",
    "rmse = np.round(mse**0.5,3)\n",
    "mae = np.round(mean_absolute_error(observations, pred_series),3)\n",
    "rmsle = np.round(mean_squared_log_error(observations, pred_series),3)\n",
    "\n",
    "print(f\" MPE: {mpe}\")\n",
    "print(f\" MAPE: {mape}\")\n",
    "print(f\" MAE: {mae}\")\n",
    "print(f\" MSE: {mse}\")\n",
    "print(f\" RMSE: {rmse}\")\n",
    "print(f\" RMSLE: {rmsle}\")"
   ]
  },
  {
   "cell_type": "code",
   "execution_count": 42,
   "id": "ba1569ba-15ae-4a61-b2c7-04c6adabbf55",
   "metadata": {},
   "outputs": [
    {
     "data": {
      "text/plain": [
       "<matplotlib.legend.Legend at 0x232440b37d0>"
      ]
     },
     "execution_count": 42,
     "metadata": {},
     "output_type": "execute_result"
    },
    {
     "data": {
      "image/png": "[encoded data removed]",
      "text/plain": [
       "<Figure size 640x480 with 1 Axes>"
      ]
     },
     "metadata": {},
     "output_type": "display_data"
    }
   ],
   "source": [
    "index = pd.date_range(\"2016-01-01\", \"2017-08-15\", freq=\"3MS\") \n",
    "observations = pd.Series(observations, index=index)\n",
    "pred_series = pd.Series(pred_series, index=index)\n",
    "\n",
    "plt.ylabel(\"$Sales\") \n",
    "pred_series.plot(label='ARIMA')\n",
    "observations.plot(label='Actual')\n",
    "plt.legend()"
   ]
  },
  {
   "cell_type": "markdown",
   "id": "5c316fa9-f8af-441e-82fc-2ccedc78240a",
   "metadata": {},
   "source": [
    "## 5. ARIMA SUBMISSION"
   ]
  },
  {
   "cell_type": "code",
   "execution_count": 44,
   "id": "b892e367-79c0-4161-a766-914b1c2b2afb",
   "metadata": {},
   "outputs": [],
   "source": [
    "arima_results_dict={}\n",
    "\n",
    "for key, series in train_series_dict.items():\n",
    "    model1=ARIMA(endog=series[:'2017-08-01'], order=(1,0,1))\n",
    "    result=model1.fit()\n",
    "    arima_results_dict[key]=result"
   ]
  },
  {
   "cell_type": "code",
   "execution_count": 45,
   "id": "edee4f34-0c55-4116-a424-da349ad47e79",
   "metadata": {},
   "outputs": [],
   "source": [
    "arima_pred={}\n",
    "start='2017-08-16'\n",
    "end='2017-08-31'\n",
    "\n",
    "for key, model in arima_results_dict.items():\n",
    "    pred_series=model.predict(start=start, end=end)\n",
    "    arima_pred[key]=pred_series"
   ]
  },
  {
   "cell_type": "code",
   "execution_count": 46,
   "id": "189422a0-fbac-401b-ba61-fcc6493e9ffd",
   "metadata": {},
   "outputs": [
    {
     "data": {
      "text/html": [
       "<div>\n",
       "<style scoped>\n",
       "    .dataframe tbody tr th:only-of-type {\n",
       "        vertical-align: middle;\n",
       "    }\n",
       "\n",
       "    .dataframe tbody tr th {\n",
       "        vertical-align: top;\n",
       "    }\n",
       "\n",
       "    .dataframe thead th {\n",
       "        text-align: right;\n",
       "    }\n",
       "</style>\n",
       "<table border=\"1\" class=\"dataframe\">\n",
       "  <thead>\n",
       "    <tr style=\"text-align: right;\">\n",
       "      <th></th>\n",
       "      <th>id</th>\n",
       "      <th>date</th>\n",
       "      <th>store_nbr</th>\n",
       "      <th>family</th>\n",
       "      <th>onpromotion</th>\n",
       "      <th>sales</th>\n",
       "    </tr>\n",
       "  </thead>\n",
       "  <tbody>\n",
       "    <tr>\n",
       "      <th>0</th>\n",
       "      <td>3000888</td>\n",
       "      <td>2017-08-16</td>\n",
       "      <td>1</td>\n",
       "      <td>AUTOMOTIVE</td>\n",
       "      <td>0</td>\n",
       "      <td>4.317901</td>\n",
       "    </tr>\n",
       "    <tr>\n",
       "      <th>1</th>\n",
       "      <td>3000889</td>\n",
       "      <td>2017-08-16</td>\n",
       "      <td>1</td>\n",
       "      <td>BABY CARE</td>\n",
       "      <td>0</td>\n",
       "      <td>-0.000005</td>\n",
       "    </tr>\n",
       "    <tr>\n",
       "      <th>2</th>\n",
       "      <td>3000890</td>\n",
       "      <td>2017-08-16</td>\n",
       "      <td>1</td>\n",
       "      <td>BEAUTY</td>\n",
       "      <td>2</td>\n",
       "      <td>2.891516</td>\n",
       "    </tr>\n",
       "    <tr>\n",
       "      <th>3</th>\n",
       "      <td>3000891</td>\n",
       "      <td>2017-08-16</td>\n",
       "      <td>1</td>\n",
       "      <td>BEVERAGES</td>\n",
       "      <td>20</td>\n",
       "      <td>2084.565422</td>\n",
       "    </tr>\n",
       "    <tr>\n",
       "      <th>4</th>\n",
       "      <td>3000892</td>\n",
       "      <td>2017-08-16</td>\n",
       "      <td>1</td>\n",
       "      <td>BOOKS</td>\n",
       "      <td>0</td>\n",
       "      <td>0.157178</td>\n",
       "    </tr>\n",
       "    <tr>\n",
       "      <th>...</th>\n",
       "      <td>...</td>\n",
       "      <td>...</td>\n",
       "      <td>...</td>\n",
       "      <td>...</td>\n",
       "      <td>...</td>\n",
       "      <td>...</td>\n",
       "    </tr>\n",
       "    <tr>\n",
       "      <th>28507</th>\n",
       "      <td>3029395</td>\n",
       "      <td>2017-08-31</td>\n",
       "      <td>9</td>\n",
       "      <td>POULTRY</td>\n",
       "      <td>1</td>\n",
       "      <td>484.981640</td>\n",
       "    </tr>\n",
       "    <tr>\n",
       "      <th>28508</th>\n",
       "      <td>3029396</td>\n",
       "      <td>2017-08-31</td>\n",
       "      <td>9</td>\n",
       "      <td>PREPARED FOODS</td>\n",
       "      <td>0</td>\n",
       "      <td>88.466082</td>\n",
       "    </tr>\n",
       "    <tr>\n",
       "      <th>28509</th>\n",
       "      <td>3029397</td>\n",
       "      <td>2017-08-31</td>\n",
       "      <td>9</td>\n",
       "      <td>PRODUCE</td>\n",
       "      <td>1</td>\n",
       "      <td>1552.149190</td>\n",
       "    </tr>\n",
       "    <tr>\n",
       "      <th>28510</th>\n",
       "      <td>3029398</td>\n",
       "      <td>2017-08-31</td>\n",
       "      <td>9</td>\n",
       "      <td>SCHOOL AND OFFICE SUPPLIES</td>\n",
       "      <td>9</td>\n",
       "      <td>9.696351</td>\n",
       "    </tr>\n",
       "    <tr>\n",
       "      <th>28511</th>\n",
       "      <td>3029399</td>\n",
       "      <td>2017-08-31</td>\n",
       "      <td>9</td>\n",
       "      <td>SEAFOOD</td>\n",
       "      <td>0</td>\n",
       "      <td>16.703043</td>\n",
       "    </tr>\n",
       "  </tbody>\n",
       "</table>\n",
       "<p>28512 rows × 6 columns</p>\n",
       "</div>"
      ],
      "text/plain": [
       "            id       date  store_nbr                      family  onpromotion  \\\n",
       "0      3000888 2017-08-16          1                  AUTOMOTIVE            0   \n",
       "1      3000889 2017-08-16          1                   BABY CARE            0   \n",
       "2      3000890 2017-08-16          1                      BEAUTY            2   \n",
       "3      3000891 2017-08-16          1                   BEVERAGES           20   \n",
       "4      3000892 2017-08-16          1                       BOOKS            0   \n",
       "...        ...        ...        ...                         ...          ...   \n",
       "28507  3029395 2017-08-31          9                     POULTRY            1   \n",
       "28508  3029396 2017-08-31          9              PREPARED FOODS            0   \n",
       "28509  3029397 2017-08-31          9                     PRODUCE            1   \n",
       "28510  3029398 2017-08-31          9  SCHOOL AND OFFICE SUPPLIES            9   \n",
       "28511  3029399 2017-08-31          9                     SEAFOOD            0   \n",
       "\n",
       "             sales  \n",
       "0         4.317901  \n",
       "1        -0.000005  \n",
       "2         2.891516  \n",
       "3      2084.565422  \n",
       "4         0.157178  \n",
       "...            ...  \n",
       "28507   484.981640  \n",
       "28508    88.466082  \n",
       "28509  1552.149190  \n",
       "28510     9.696351  \n",
       "28511    16.703043  \n",
       "\n",
       "[28512 rows x 6 columns]"
      ]
     },
     "metadata": {},
     "output_type": "display_data"
    },
    {
     "data": {
      "text/html": [
       "<div>\n",
       "<style scoped>\n",
       "    .dataframe tbody tr th:only-of-type {\n",
       "        vertical-align: middle;\n",
       "    }\n",
       "\n",
       "    .dataframe tbody tr th {\n",
       "        vertical-align: top;\n",
       "    }\n",
       "\n",
       "    .dataframe thead th {\n",
       "        text-align: right;\n",
       "    }\n",
       "</style>\n",
       "<table border=\"1\" class=\"dataframe\">\n",
       "  <thead>\n",
       "    <tr style=\"text-align: right;\">\n",
       "      <th></th>\n",
       "      <th>sales</th>\n",
       "    </tr>\n",
       "    <tr>\n",
       "      <th>id</th>\n",
       "      <th></th>\n",
       "    </tr>\n",
       "  </thead>\n",
       "  <tbody>\n",
       "    <tr>\n",
       "      <th>3000888</th>\n",
       "      <td>4.317901</td>\n",
       "    </tr>\n",
       "    <tr>\n",
       "      <th>3000889</th>\n",
       "      <td>-0.000005</td>\n",
       "    </tr>\n",
       "    <tr>\n",
       "      <th>3000890</th>\n",
       "      <td>2.891516</td>\n",
       "    </tr>\n",
       "    <tr>\n",
       "      <th>3000891</th>\n",
       "      <td>2084.565422</td>\n",
       "    </tr>\n",
       "    <tr>\n",
       "      <th>3000892</th>\n",
       "      <td>0.157178</td>\n",
       "    </tr>\n",
       "    <tr>\n",
       "      <th>...</th>\n",
       "      <td>...</td>\n",
       "    </tr>\n",
       "    <tr>\n",
       "      <th>3029395</th>\n",
       "      <td>484.981640</td>\n",
       "    </tr>\n",
       "    <tr>\n",
       "      <th>3029396</th>\n",
       "      <td>88.466082</td>\n",
       "    </tr>\n",
       "    <tr>\n",
       "      <th>3029397</th>\n",
       "      <td>1552.149190</td>\n",
       "    </tr>\n",
       "    <tr>\n",
       "      <th>3029398</th>\n",
       "      <td>9.696351</td>\n",
       "    </tr>\n",
       "    <tr>\n",
       "      <th>3029399</th>\n",
       "      <td>16.703043</td>\n",
       "    </tr>\n",
       "  </tbody>\n",
       "</table>\n",
       "<p>28512 rows × 1 columns</p>\n",
       "</div>"
      ],
      "text/plain": [
       "               sales\n",
       "id                  \n",
       "3000888     4.317901\n",
       "3000889    -0.000005\n",
       "3000890     2.891516\n",
       "3000891  2084.565422\n",
       "3000892     0.157178\n",
       "...              ...\n",
       "3029395   484.981640\n",
       "3029396    88.466082\n",
       "3029397  1552.149190\n",
       "3029398     9.696351\n",
       "3029399    16.703043\n",
       "\n",
       "[28512 rows x 1 columns]"
      ]
     },
     "metadata": {},
     "output_type": "display_data"
    }
   ],
   "source": [
    "sample_submission = pd.read_csv('sample_submission.csv')\n",
    "\n",
    "predictions_df=pd.concat(objs=arima_pred)\n",
    "predictions_df=predictions_df.to_frame(name='sales')\n",
    "#predictions_df=predictions_df.reset_index()\n",
    "#predictions_df=predictions_df.rename(mapper={'level_0': 'family', 'level_1': 'store_nbr', 'level_2': 'date'}, axis=1)\n",
    "predictions_df.index.rename(['family', 'store_nbr', 'date'], inplace=True)\n",
    "\n",
    "test['date']=pd.to_datetime(test['date'], format='%Y-%m-%d')\n",
    "\n",
    "submission_df=test.join(other=predictions_df ,on=['family', 'store_nbr', 'date'],how='left')\n",
    "display(submission_df)\n",
    "submission_df.drop(axis=1, labels=['onpromotion', 'date', 'family', 'store_nbr'], inplace=True)\n",
    "submission_df.set_index('id', inplace=True)\n",
    "display(submission_df)\n",
    "submission_df.to_csv('submission.csv')"
   ]
  },
  {
   "attachments": {
    "df0276fd-c2bb-4f0a-a42f-cc00189ecd05.png": {
     "image/png": "[encoded data removed]"
    }
   },
   "cell_type": "markdown",
   "id": "5acaa68a-471d-4efb-b70d-854eae85012a",
   "metadata": {},
   "source": [
    "CONCLUSION\n",
    "A series of daily sales has been extracted from the data set and used by both ETS and ARIMA models to predict daily sale for the time period from 2017-08-16 to 2016-08-31. This series was tested by the Adfuller test with zero p-value therefore a stationary series. The performance of the two models are then compared in the table below.\n",
    "\n",
    "![image.png](attachment:df0276fd-c2bb-4f0a-a42f-cc00189ecd05.png)![image.png].\n",
    "\n",
    "The ETS model seems to be much better with the smaller MPE, MAPE, MAE, MSE, and RMSLE but larger correlation between actual and forecast at 0.500.\n",
    "\n",
    "The ARIMA(3,0,1) for some reason not well understood has worse performance metrics as well as a negative correlation coefficient of -0.017. Further study is needed to refine this model.\n"
   ]
  },
  {
   "cell_type": "code",
   "execution_count": null,
   "id": "e6adc016-4ac4-486f-8e93-e748fffc34b2",
   "metadata": {},
   "outputs": [],
   "source": []
  }
 ],
 "metadata": {
  "kernelspec": {
   "display_name": "Python 3 (ipykernel)",
   "language": "python",
   "name": "python3"
  },
  "language_info": {
   "codemirror_mode": {
    "name": "ipython",
    "version": 3
   },
   "file_extension": ".py",
   "mimetype": "text/x-python",
   "name": "python",
   "nbconvert_exporter": "python",
   "pygments_lexer": "ipython3",
   "version": "3.12.7"
  }
 },
 "nbformat": 4,
 "nbformat_minor": 5
}
